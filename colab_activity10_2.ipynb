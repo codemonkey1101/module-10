{
 "cells": [
  {
   "attachments": {},
   "cell_type": "markdown",
   "metadata": {},
   "source": [
    "### Colab Activity 10:2: Forecasting with Decomposition Models\n",
    "\n",
    "You have now seen how to both decompose a time series into seasonal and trend components, and how they can be used to forecast into the future using statsmodels.  In this activity, your goal is to identify a new (to you) time series dataset and build a forecast using a seasonal and trend additive or multiplicative model using statsmodels.  You will summarize your findings in an executive brief that explores the following:\n",
    "\n",
    "- **Data Description**: A high-level overview of your data, its timeframe, and general information on your dataset.\n",
    "- **Visualizations**: An overview of your findings and conclusions through different types of plots. \n",
    "- **Forecast**: A description of the forecast.  Describe the period that was projected and what the forecast says about your data.  Be sure to include presentation-ready plots with appropriate labels and titles.\n",
    "- **Uncertainty**: Discuss the evaluation of your model on testing data and explore the residuals.  Discuss the consequence of this error for your model and forecasts.  Is there still structure to uncover?  \n",
    "\n",
    "\n"
   ]
  },
  {
   "cell_type": "markdown",
   "metadata": {},
   "source": [
    "Suggested resources for data:\n",
    "\n",
    "1. [Bureau of Labor Statistics](https://www.bls.gov/): Contains numerous time series such as Consumer Price Index and Inflation indicies.\n",
    "2. [Kaggle](https://www.kaggle.com/search?q=time+series): Contains numerous time series datasets from different contexts.\n",
    "3. [UCI Machine Learning Repository](https://archive.ics.uci.edu/ml/datasets.php?format=&task=&att=&area=&numAtt=&numIns=&type=ts&sort=nameUp&view=table): Many time series example datasets.\n"
   ]
  },
  {
   "cell_type": "markdown",
   "metadata": {},
   "source": []
  },
  {
   "cell_type": "markdown",
   "metadata": {},
   "source": []
  },
  {
   "cell_type": "code",
   "execution_count": null,
   "metadata": {},
   "outputs": [],
   "source": []
  },
  {
   "cell_type": "code",
   "execution_count": null,
   "metadata": {},
   "outputs": [],
   "source": []
  },
  {
   "cell_type": "code",
   "execution_count": null,
   "metadata": {},
   "outputs": [],
   "source": []
  },
  {
   "cell_type": "code",
   "execution_count": null,
   "metadata": {},
   "outputs": [],
   "source": []
  },
  {
   "cell_type": "code",
   "execution_count": null,
   "metadata": {},
   "outputs": [],
   "source": []
  },
  {
   "cell_type": "code",
   "execution_count": null,
   "metadata": {},
   "outputs": [],
   "source": []
  }
 ],
 "metadata": {
  "kernelspec": {
   "display_name": "Python 3",
   "language": "python",
   "name": "python3"
  },
  "language_info": {
   "codemirror_mode": {
    "name": "ipython",
    "version": 3
   },
   "file_extension": ".py",
   "mimetype": "text/x-python",
   "name": "python",
   "nbconvert_exporter": "python",
   "pygments_lexer": "ipython3",
   "version": "3.8.3"
  }
 },
 "nbformat": 4,
 "nbformat_minor": 4
}
