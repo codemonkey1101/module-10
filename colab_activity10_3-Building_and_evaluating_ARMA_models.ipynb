{
 "cells": [
  {
   "attachments": {},
   "cell_type": "markdown",
   "metadata": {},
   "source": [
    "### Colab Activity 10.3: Building and Evaluating ARMA Models\n",
    "\n",
    "The last videos of the module took you through an approach to building ARMA models.  \n",
    "\n",
    "First, it was important to transform your data into a stationary series if not already so.  You tested for stationarity using the `adfuller` function and interpreted the $p$ value of the hypothesis test.  If the data was not stationary you saw strategies such as differencing and logarithmic transformations applied as a way to achieve stationarity. \n",
    "\n",
    "Once the series was stationary, building an ARMA model involved using autocorrelation and partial autocorrelation plots to determine the appropriate $p$ and $q$ parameters of the model.  \n",
    "\n",
    "This activity asks you to identify a time series of interest and to build an ARMA model to construct a basic forecast for the series and analyze the error.  Another element to consider is to build models with some different $p$ and $q$ models -- as while ACF and PACF plots help us, they are rough ideas of the appropriate parameters, and it is usually good practice to perform a simple grid search on these.  You are to find a time series dataset using any resource you would like and present your model and findings to the class. \n",
    "\n",
    "If you have trouble locating a dataset or would prefer a suggestion, try the [Rossmann Store Sales](https://www.kaggle.com/c/rossmann-store-sales) competition from Kaggle.  This involved forecasting retail store sales for a major drugstore.\n",
    "\n",
    "------\n",
    "\n",
    "**Further Extensions**\n",
    "\n",
    "- SARIMA models that extend the ARMA model to include seasonal components.  Statsmodels contains a `SARIMAX` model that will accomplish this. Introduction from docs [here](https://www.statsmodels.org/dev/examples/notebooks/generated/statespace_sarimax_stata.html). \n",
    "- ARIMAX and SARIMAX models that incorporate exogenous features as inputs to your model.  The Rossman data provides many features for potential use here. Statsmodels readily implements these.\n",
    "- Feature Engineering with Time Series.  If you are presented with a basic time series like the sunspots data or airline data without exogenous features, these can be engineered from the series itself.  There are many approaches, but one library that can help is called `tsfresh` docs [here](https://tsfresh.readthedocs.io/en/latest/)."
   ]
  },
  {
   "cell_type": "code",
   "execution_count": null,
   "metadata": {},
   "outputs": [],
   "source": [
    "# see solution file"
   ]
  }
 ],
 "metadata": {
  "kernelspec": {
   "display_name": "Python 3",
   "language": "python",
   "name": "python3"
  },
  "language_info": {
   "codemirror_mode": {
    "name": "ipython",
    "version": 3
   },
   "file_extension": ".py",
   "mimetype": "text/x-python",
   "name": "python",
   "nbconvert_exporter": "python",
   "pygments_lexer": "ipython3",
   "version": "3.8.3"
  }
 },
 "nbformat": 4,
 "nbformat_minor": 4
}
